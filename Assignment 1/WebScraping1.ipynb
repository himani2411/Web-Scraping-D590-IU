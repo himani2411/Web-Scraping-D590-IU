{
  "nbformat": 4,
  "nbformat_minor": 0,
  "metadata": {
    "colab": {
      "name": "WebScraping_assignment1.ipynb",
      "provenance": [],
      "collapsed_sections": []
    },
    "kernelspec": {
      "name": "python3",
      "display_name": "Python 3"
    },
    "language_info": {
      "name": "python"
    }
  },
  "cells": [
    {
      "cell_type": "markdown",
      "source": [
        "# Web Scraping Assignment 1\n",
        "by Himani Anil Deshpande"
      ],
      "metadata": {
        "id": "dXwcA3TBkBPc"
      }
    },
    {
      "cell_type": "code",
      "execution_count": 1,
      "metadata": {
        "colab": {
          "base_uri": "https://localhost:8080/"
        },
        "id": "U4u0mCzPwvC0",
        "outputId": "d5196771-eca5-4578-d3e6-5fff4d638aa1"
      },
      "outputs": [
        {
          "output_type": "stream",
          "name": "stdout",
          "text": [
            "\"How's everyone?\", asked Sam.\n"
          ]
        }
      ],
      "source": [
        "# Question 1 - \n",
        "\n",
        "# print the string within the (excluding) square braces with the double quotations and apostrophe \n",
        "\n",
        "# [\"How's everyone?\", asked Sam.]\n",
        "\n",
        "# Hint: Use raw strings or escape characters\n",
        "\n",
        "\n",
        "string = \"[\\\"How's everyone?\\\", asked Sam.]\"\n",
        "print(string[1:-1])\n"
      ]
    },
    {
      "cell_type": "code",
      "source": [
        "# Question 2\n",
        "\n",
        "# print the value of the following expression in integer form\n",
        "\n",
        "# 3 + 32 / 6 * 9 - 12\n",
        "\n",
        "# Hint: use int() function\n",
        "\n",
        "\n",
        "\n",
        "print(int(3 + 32 / 6 * 9 - 12))"
      ],
      "metadata": {
        "colab": {
          "base_uri": "https://localhost:8080/"
        },
        "id": "_1FwTXKhGPv0",
        "outputId": "d25b8228-3b59-4c1e-965a-07b48a6c7060"
      },
      "execution_count": 2,
      "outputs": [
        {
          "output_type": "stream",
          "name": "stdout",
          "text": [
            "39\n"
          ]
        }
      ]
    },
    {
      "cell_type": "code",
      "source": [
        "# Question 3\n",
        "\n",
        "# print numbers from 10 to 1 (decreasing order) using range() function\n",
        "\n",
        "# complete the range function\n",
        "\n",
        "\n",
        "\n",
        "print(list(range(10, 0, -1)))\n",
        "\n"
      ],
      "metadata": {
        "colab": {
          "base_uri": "https://localhost:8080/"
        },
        "id": "kGJLRu4_HeaA",
        "outputId": "33ffb8b2-195b-4702-80de-ed40ae03afdf"
      },
      "execution_count": 3,
      "outputs": [
        {
          "output_type": "stream",
          "name": "stdout",
          "text": [
            "[10, 9, 8, 7, 6, 5, 4, 3, 2, 1]\n"
          ]
        }
      ]
    },
    {
      "cell_type": "code",
      "source": [
        "# Question 4\n",
        "\n",
        "# Write a program which takes the following inputs\n",
        "\n",
        "# a. Last name\n",
        "\n",
        "# b. First name\n",
        "\n",
        "# c. age\n",
        "\n",
        "# and prints\n",
        "\n",
        "# Length of last name\n",
        "\n",
        "# length of first name\n",
        "\n",
        "# Last name followed by coma followed by first name and age in 10 years\n",
        "\n",
        "\n",
        "\n",
        "# Ex: For the following input, \n",
        "\n",
        "# a. Last name: Doe\n",
        "\n",
        "# b. First name: Jane\n",
        "\n",
        "# c. age: 23\n",
        "\n",
        "# the output should be:\n",
        "\n",
        "# Last name has 3 characters\n",
        "\n",
        "# First name has 4 characters\n",
        "\n",
        "# Full name is Doe, Jane and age in 10 years is 33\n",
        "\n",
        "\n",
        "\n",
        "# Fill in the blanks to get the program running\n",
        "\n",
        "\n",
        "\n",
        "last_name = input(\"Enter Last Name: \") + \",\"\n",
        "\n",
        "first_name = input(\"Enter First Name: \")\n",
        "\n",
        "age = int(input(\"Enter Age: \"))\n",
        "\n",
        "\n",
        "\n",
        "print(\"Last name has\", len(last_name)-1 ,\"characters\")\n",
        "\n",
        "print(\"First name has\", len(first_name ),\"characters\")\n",
        "\n",
        "print(\"Full name is\", last_name, first_name ,\"and age in 10 years is\",str(age + 10))"
      ],
      "metadata": {
        "colab": {
          "base_uri": "https://localhost:8080/"
        },
        "id": "oQGArcxHHtBg",
        "outputId": "787e839e-646f-417d-b73d-b1a598e1ee17"
      },
      "execution_count": 6,
      "outputs": [
        {
          "output_type": "stream",
          "name": "stdout",
          "text": [
            "Enter Last Name: Doe\n",
            "Enter First Name: Jane\n",
            "Enter Age: 23\n",
            "Last name has 3 characters\n",
            "First name has 4 characters\n",
            "Full name is Doe, Jane and age in 10 years is 33\n"
          ]
        }
      ]
    },
    {
      "cell_type": "code",
      "source": [
        "# Question 5\n",
        "\n",
        "# Write a program which takes username and password as input. \n",
        "\n",
        "# Call a login function, which returns true if the username is 'jdoe' and password is $12@jd56\n",
        "\n",
        "# Else, returns false\n",
        "\n",
        "# using the return value from the function print successful or retry message\n",
        "import getpass\n",
        "\n",
        "\n",
        "def login(uname, passwd):\n",
        "\n",
        "    if uname ==\"jdoe\" and passwd == \"$12@jd56\":\n",
        "\n",
        "        return True\n",
        "\n",
        "    else:\n",
        "\n",
        "        return False\n",
        "\n",
        "\n",
        "\n",
        "# read input from user\n",
        "\n",
        "uname = input(\"Enter User Name: \")\n",
        "\n",
        "passwd =  getpass.getpass(\"Enter password: \")\n",
        "\n",
        "print(\"Successful\" if login(uname, passwd) else \"Retry \")\n",
        "\n",
        "\n",
        "# call the function with the inputs\n",
        "\n"
      ],
      "metadata": {
        "colab": {
          "base_uri": "https://localhost:8080/"
        },
        "id": "bvB4roS0IOJ9",
        "outputId": "2fc8d97a-b604-4ac7-f164-c7073a43df55"
      },
      "execution_count": 7,
      "outputs": [
        {
          "output_type": "stream",
          "name": "stdout",
          "text": [
            "Enter User Name: jdoe\n",
            "Enter password: ··········\n",
            "Successful\n"
          ]
        }
      ]
    },
    {
      "cell_type": "code",
      "source": [
        "\n",
        "# Question 6\n",
        "\n",
        "# Modify the previous program to give the user 3 chances to login. \n",
        "\n",
        "# If the credentials do not match, give the user a chance to reenter his username and password\n",
        "\n",
        "# If the credentials do not match after the third chance, print no more chances\n",
        "\n",
        "# Hint: Use if..else, for/while and break statements\n",
        "\n",
        "\n",
        "count = 0\n",
        "while count < 3:\n",
        "  \n",
        "  uname = input(\"Enter User Name: \")\n",
        "\n",
        "  passwd =  getpass.getpass(\"Enter password: \")\n",
        "  message = \"Successful\" if login(uname, passwd) else \"Retry \"\n",
        "  print(message)\n",
        "\n",
        "  \n",
        "  if message == \"Successful\":\n",
        "    break\n",
        "\n",
        "  if count == 2:\n",
        "    print(\"No more chances\")\n",
        "\n",
        "  count += 1"
      ],
      "metadata": {
        "colab": {
          "base_uri": "https://localhost:8080/"
        },
        "id": "408tPSY4KHh0",
        "outputId": "b827e345-e748-4587-a75f-c899327fb6d7"
      },
      "execution_count": 8,
      "outputs": [
        {
          "output_type": "stream",
          "name": "stdout",
          "text": [
            "Enter User Name: k\n",
            "Enter password: ··········\n",
            "Retry \n",
            "Enter User Name: j\n",
            "Enter password: ··········\n",
            "Retry \n",
            "Enter User Name: jdoe\n",
            "Enter password: ··········\n",
            "Successful\n"
          ]
        }
      ]
    },
    {
      "cell_type": "code",
      "source": [
        ""
      ],
      "metadata": {
        "id": "aos6GIuVL7Pz"
      },
      "execution_count": null,
      "outputs": []
    }
  ]
}
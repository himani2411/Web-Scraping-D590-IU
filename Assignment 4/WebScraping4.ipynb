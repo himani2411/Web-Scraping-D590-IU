{
  "nbformat": 4,
  "nbformat_minor": 0,
  "metadata": {
    "colab": {
      "name": "WebScraping_ass4.ipynb",
      "provenance": [],
      "collapsed_sections": []
    },
    "kernelspec": {
      "name": "python3",
      "display_name": "Python 3"
    },
    "language_info": {
      "name": "python"
    }
  },
  "cells": [
    {
      "cell_type": "markdown",
      "source": [
        "# Assignment 04\n",
        "submitted by Himani Anil Deshpande\n",
        "\n",
        "\n",
        "Note: To be done after completing Module 5\n",
        "In this exercise, we will work on some problems to get practical experience on the concepts learnt so far.\n",
        "\n",
        "In this assignment, we will build on the work you have previously done. In the following cells, I have created a partial definition of the Authentication class. The next cell will have a function called data_entry(), which inserts some users. Execute these cells, and start your assignment."
      ],
      "metadata": {
        "id": "ZQ9u9OJJ6bA6"
      }
    },
    {
      "cell_type": "code",
      "execution_count": 5,
      "metadata": {
        "id": "H3Oh5KNS6aiG"
      },
      "outputs": [],
      "source": [
        "class Authentication:\n",
        "    def __init__(self):\n",
        "        # instantiate an instance variable\n",
        "        self.user_dict = {}\n",
        "    \n",
        "    def register_user(self, uname, passwd):\n",
        "        if uname in self.user_dict:\n",
        "            print(\"Username exists! Try a new one.\")\n",
        "            return False\n",
        "        else:\n",
        "            self.user_dict[uname] = passwd\n",
        "            print(\"Registration successful\" )\n",
        "            return True  "
      ]
    },
    {
      "cell_type": "code",
      "source": [
        "def data_entry(auth):\n",
        "\n",
        "    # registering 3 users\n",
        "    auth.register_user('jdoe', '$234^%$') # Jane Doe\n",
        "    auth.register_user('sburry', '456@#&^') # Sam Burry\n",
        "    auth.register_user('mfisc', '%6&#$@#') # Mike Fischer\n",
        "    auth.register_user('nhay', 'ildfu45') # Nicky Hailey\n",
        "    auth.register_user('bobama', 'klj43509jafd') # Barack Obama\n",
        "    auth.register_user('bgates', '^&%kjsfd934@#$') # Bill Gates \n",
        "    auth.register_user('mcuban', '9&4rl#nsf') # Mark Cuban\n",
        "\n",
        "# Main program\n",
        "auth = Authentication()\n",
        "data_entry(auth)"
      ],
      "metadata": {
        "colab": {
          "base_uri": "https://localhost:8080/"
        },
        "id": "tozt1vQ-6cv_",
        "outputId": "d1a9aa33-bd53-4a3c-be12-e4802f82d265"
      },
      "execution_count": 6,
      "outputs": [
        {
          "output_type": "stream",
          "name": "stdout",
          "text": [
            "Registration successful\n",
            "Registration successful\n",
            "Registration successful\n",
            "Registration successful\n",
            "Registration successful\n",
            "Registration successful\n",
            "Registration successful\n"
          ]
        }
      ]
    },
    {
      "cell_type": "markdown",
      "source": [
        "# Question 1:\n",
        " Inherit the Authentication class to create a new child class called AuthenticationIOcsv\n",
        " add a new method called write_info()\n",
        " which writes all the usernames and passwords to a CSV file (never recommended in real life)\n",
        " the filename should be \"userinfo.csv\"\n",
        " It should have 2 columns: Username, Password\n",
        " After writing to file successfully, print \"Write to file successful!\"\n"
      ],
      "metadata": {
        "id": "FpYXg6446l_h"
      }
    },
    {
      "cell_type": "code",
      "source": [
        "import csv\n",
        "\n",
        "class AuthenticationIOcsv(Authentication):\n",
        "    def write_info(self):\n",
        "        fname='userinfo.csv'\n",
        "        # f = open(fname, 'w')\n",
        "        with open(fname, 'w',encoding='UTF8', newline = '') as f:\n",
        "          w = csv.writer(f)\n",
        "          w.writerow(['username', 'password'])\n",
        "          for u, p in self.user_dict.items(): \n",
        "            w.writerow([u,p])\n",
        "\n",
        "        print(\"Write to file successful!\")\n",
        "\n",
        "        # fill in your code\n",
        "        # remove pass after your implementation is complete\n",
        "        # pass\n",
        "\n",
        "# Main Program\n",
        "auth = AuthenticationIOcsv()\n",
        "data_entry(auth)\n",
        "\n",
        "# writing to file\n",
        "auth.write_info()"
      ],
      "metadata": {
        "colab": {
          "base_uri": "https://localhost:8080/"
        },
        "id": "DLpWssC46mVK",
        "outputId": "5608c794-619a-4099-865b-e82b218221d6"
      },
      "execution_count": 7,
      "outputs": [
        {
          "output_type": "stream",
          "name": "stdout",
          "text": [
            "Registration successful\n",
            "Registration successful\n",
            "Registration successful\n",
            "Registration successful\n",
            "Registration successful\n",
            "Registration successful\n",
            "Registration successful\n",
            "Write to file successful!\n"
          ]
        }
      ]
    },
    {
      "cell_type": "markdown",
      "source": [
        "# Question 2:\n",
        " Read and print the contents of the CSV file \"userinfo.csv\""
      ],
      "metadata": {
        "id": "76k8tzpr6xwI"
      }
    },
    {
      "cell_type": "code",
      "source": [
        "\n",
        "fname = \"userinfo.csv\"\n",
        "\n",
        "with open(fname) as f:\n",
        "    print(f.read())\n",
        "    # fill in your code\n",
        "    # remove pass after your implementation is complete\n",
        "    # pass"
      ],
      "metadata": {
        "colab": {
          "base_uri": "https://localhost:8080/"
        },
        "id": "ODBwgrNW6y1S",
        "outputId": "82c04c14-b8a0-4b65-cd3e-358e9dba82b7"
      },
      "execution_count": 8,
      "outputs": [
        {
          "output_type": "stream",
          "name": "stdout",
          "text": [
            "username,password\n",
            "jdoe,$234^%$\n",
            "sburry,456@#&^\n",
            "mfisc,%6&#$@#\n",
            "nhay,ildfu45\n",
            "bobama,klj43509jafd\n",
            "bgates,^&%kjsfd934@#$\n",
            "mcuban,9&4rl#nsf\n",
            "\n"
          ]
        }
      ]
    },
    {
      "cell_type": "markdown",
      "source": [
        "# Question 3:\n",
        " Inherit the Authentication class to create a new child class called AuthenticationIOjson\n",
        " add a new method called write_info()\n",
        " which writes all the usernames and passwords to a json file (never recommended in real life)\n",
        " the filename should be \"userinfo.json\"\n",
        " It should have Username as the key, Password as the value \n",
        " After writing to file successfully, print \"Write to file successful!\""
      ],
      "metadata": {
        "id": "6fJTNYpd62u4"
      }
    },
    {
      "cell_type": "code",
      "source": [
        "\n",
        "import json\n",
        "from pprint import pprint \n",
        "\n",
        "class AuthenticationIOjson(Authentication):\n",
        "    \n",
        "    def write_info(self):\n",
        "        fname = 'userinfo.json'\n",
        "        with open(fname, 'w') as f:\n",
        "          json.dump(self.user_dict, f)\n",
        "        # fill in your code\n",
        "        # remove pass after your implementation is complete\n",
        "        # pass\n",
        "        print(\"Write to file successful!\")\n",
        "\n",
        "# Main Program\n",
        "auth = AuthenticationIOjson()\n",
        "data_entry(auth)\n",
        "\n",
        "# writing to file\n",
        "auth.write_info()"
      ],
      "metadata": {
        "colab": {
          "base_uri": "https://localhost:8080/"
        },
        "id": "BOiacXHq67xo",
        "outputId": "bac68963-d327-4623-ec48-5e9e3fdc2c32"
      },
      "execution_count": 9,
      "outputs": [
        {
          "output_type": "stream",
          "name": "stdout",
          "text": [
            "Registration successful\n",
            "Registration successful\n",
            "Registration successful\n",
            "Registration successful\n",
            "Registration successful\n",
            "Registration successful\n",
            "Registration successful\n",
            "Write to file successful!\n"
          ]
        }
      ]
    },
    {
      "cell_type": "markdown",
      "source": [
        "# Question 4:\n",
        " Read and print the contents of the json file \"userinfo.json\"\n"
      ],
      "metadata": {
        "id": "xkQZfYBE7AVt"
      }
    },
    {
      "cell_type": "code",
      "source": [
        "\n",
        "fname = 'userinfo.json'\n",
        "\n",
        "with open(fname, 'r') as f:\n",
        "    info = json.load(f)\n",
        "    # fill in your code\n",
        "    # remove pass after your implementation is complete\n",
        "    # pass\n",
        "\n",
        "pprint(info)"
      ],
      "metadata": {
        "colab": {
          "base_uri": "https://localhost:8080/"
        },
        "id": "9vIbvfMg696y",
        "outputId": "524b12d4-5ee5-41fd-af34-ad590bcf58a1"
      },
      "execution_count": 10,
      "outputs": [
        {
          "output_type": "stream",
          "name": "stdout",
          "text": [
            "{'bgates': '^&%kjsfd934@#$',\n",
            " 'bobama': 'klj43509jafd',\n",
            " 'jdoe': '$234^%$',\n",
            " 'mcuban': '9&4rl#nsf',\n",
            " 'mfisc': '%6&#$@#',\n",
            " 'nhay': 'ildfu45',\n",
            " 'sburry': '456@#&^'}\n"
          ]
        }
      ]
    },
    {
      "cell_type": "markdown",
      "source": [
        "# Regular Expressions\n",
        "Now, we will work on some exercises related to Strings and Pattern Matching.\n",
        "\n",
        "# Question 5\n",
        " Given a string,strip all the white spaces on both sides of the string \n",
        " Then, capitalize first letter of all words \n",
        " if first character is not an alphabet leave it as it is\n",
        " and lower case the rest of the characters in each word\n"
      ],
      "metadata": {
        "id": "WQTI-k8z7E-U"
      }
    },
    {
      "cell_type": "code",
      "source": [
        "tweet = \"     Its a happy day in bloomington #happy            \"\n",
        "\n",
        "# strip all the white spaces and split the string to individual words\n",
        "words = tweet.strip().split()\n",
        "\n",
        "formatted_words = []\n",
        "for w in words:\n",
        "    # check if the first character is an alphabet\n",
        "    if w[0].isupper():\n",
        "        formatted_words.append(w)\n",
        "    else:\n",
        "        if w[0].isalpha():\n",
        "          formatted_words.append(w[0].upper()+w[1:])\n",
        "        else:\n",
        "          formatted_words.append(w[0]+w[1].upper()+w[2:])\n",
        "\n",
        "# join all the words in formatter_words to create a single string\n",
        "formatted_tweet = ' '.join(formatted_words)\n",
        "print(formatted_tweet)"
      ],
      "metadata": {
        "colab": {
          "base_uri": "https://localhost:8080/"
        },
        "id": "ruk11t7w6_pr",
        "outputId": "08a216a9-10e2-4c94-ec4b-285785a162bb"
      },
      "execution_count": 11,
      "outputs": [
        {
          "output_type": "stream",
          "name": "stdout",
          "text": [
            "Its A Happy Day In Bloomington #Happy\n"
          ]
        }
      ]
    },
    {
      "cell_type": "markdown",
      "source": [
        "# Question 6\n",
        " In the following address, find the Street address, State, Zipcode using regular expressions\n"
      ],
      "metadata": {
        "id": "b1xklgHj7Nnu"
      }
    },
    {
      "cell_type": "code",
      "source": [
        "\n",
        "\n",
        "import re\n",
        "\n",
        "addr = \"2706 10th Street, Bloomington, IN - 47408\"\n",
        "\n",
        "# feel free to write your own regex strings\n",
        "# this version is for simplicity\n",
        "\n",
        "# st_expr = \"([a-z,A-Z,0-9\\s])?\" # must capture the idea the street addresses have small and capital letters, numbers and space\n",
        "# st_expr = \"([0-9])?\\s([0-9])?([a-z])\\s([A-Za-z])?,\\s([A-Za-z])?$\" # must capture the idea the street addresses have small and capital letters, numbers and space\n",
        "# st_expr = r\"\\b(\\d{1,5})+\\s(\\s\\d+\\W+\\w+)+,\\s(\\W+\\w+)+,\\s[A-Z]{2}\\s-\\s\\d{1,6}\"\n",
        "st_expr = r'([0-9]+ [\\w]+ [A-Za-z]+)' \n",
        "st_regex = re.compile(st_expr)\n",
        "street = re.search(st_expr,addr)\n",
        "# print(st_regex.group())\n",
        "# print(st_regex.group()])\n",
        "# street = addr[:st_regex.end()]\n",
        "\n",
        "state_zip_expr = \"([A-Z]{2})\\s[-]\\s([0-9]{5})$\" # state has two letters followed by space, -, space and 5 digits\n",
        "state_zip_re = re.search(state_zip_expr,addr)\n",
        "state, zipcode = state_zip_re.group(1), state_zip_re.group(2)#addr[state_zip_re:state_zip_re+3], addr[state_zip_re+3:]\n",
        "\n",
        "print('Street Address:', street.group())\n",
        "print('State:', state)\n",
        "print('Zipcode:', zipcode)"
      ],
      "metadata": {
        "colab": {
          "base_uri": "https://localhost:8080/"
        },
        "id": "A9z6terH7QSM",
        "outputId": "5c540f08-6a48-49a7-c3d4-f4676d2137da"
      },
      "execution_count": 12,
      "outputs": [
        {
          "output_type": "stream",
          "name": "stdout",
          "text": [
            "Street Address: 2706 10th Street\n",
            "State: IN\n",
            "Zipcode: 47408\n"
          ]
        }
      ]
    }
  ]
}
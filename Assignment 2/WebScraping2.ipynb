{
  "nbformat": 4,
  "nbformat_minor": 0,
  "metadata": {
    "colab": {
      "name": "WebScraping_assignment2.ipynb",
      "provenance": [],
      "collapsed_sections": []
    },
    "kernelspec": {
      "name": "python3",
      "display_name": "Python 3"
    },
    "language_info": {
      "name": "python"
    }
  },
  "cells": [
    {
      "cell_type": "markdown",
      "source": [
        "# Web Scraping Assignment 2\n",
        "submitted by Himani Deshpande"
      ],
      "metadata": {
        "id": "Q1QDN9GHVeJn"
      }
    },
    {
      "cell_type": "code",
      "execution_count": null,
      "metadata": {
        "colab": {
          "base_uri": "https://localhost:8080/"
        },
        "id": "mJz45VTodZgc",
        "outputId": "5546c592-23a9-4303-960d-0688843a698b"
      },
      "outputs": [
        {
          "output_type": "stream",
          "name": "stdout",
          "text": [
            "[16, 36, 64, 144, 2025, 6084]\n"
          ]
        }
      ],
      "source": [
        "# Question 1\n",
        "# find the square of given list\n",
        "\n",
        "num_list = [4,6,8,12,45,78]\n",
        "# print the square of num_list\n",
        "for i in range(len(num_list)):\n",
        "  num_list[i] = num_list[i]**2\n",
        "\n",
        "print(num_list)"
      ]
    },
    {
      "cell_type": "code",
      "source": [
        "# Question 2\n",
        "# replace all the elements in even indexes with squares and odd indexes with cubes\n",
        "\n",
        "num_list = list(range(20))\n",
        "# print(num_list)\n",
        "\n",
        "for i in range(len(num_list)):\n",
        "  if i %2 == 0:\n",
        "    num_list[i] = num_list[i]**2\n",
        "\n",
        "  if i%2 == 1:\n",
        "    num_list[i] = num_list[i]**3\n",
        "\n",
        "print(num_list)\n"
      ],
      "metadata": {
        "colab": {
          "base_uri": "https://localhost:8080/"
        },
        "id": "Mf41_eSEd1t6",
        "outputId": "3f65df42-c5e7-4c1b-ff18-7f8ec67bff56"
      },
      "execution_count": 1,
      "outputs": [
        {
          "output_type": "stream",
          "name": "stdout",
          "text": [
            "[0, 1, 4, 27, 16, 125, 36, 343, 64, 729, 100, 1331, 144, 2197, 196, 3375, 256, 4913, 324, 6859]\n"
          ]
        }
      ]
    },
    {
      "cell_type": "code",
      "source": [
        "# Question 3\n",
        "# Using negative indexing, reverse the given list\n",
        "\n",
        "num_list = list(range(20))\n",
        "\n",
        "num_list = num_list[::-1]\n",
        "\n",
        "print(num_list)"
      ],
      "metadata": {
        "colab": {
          "base_uri": "https://localhost:8080/"
        },
        "id": "HsfMxsgseQLT",
        "outputId": "eb744f30-289d-4ec7-9f02-218af4a2d65d"
      },
      "execution_count": null,
      "outputs": [
        {
          "output_type": "stream",
          "name": "stdout",
          "text": [
            "[19, 18, 17, 16, 15, 14, 13, 12, 11, 10, 9, 8, 7, 6, 5, 4, 3, 2, 1, 0]\n"
          ]
        }
      ]
    },
    {
      "cell_type": "code",
      "source": [
        "# Quesiton 4\n",
        "# Given a tuple, convert it to a list and remove the last element using remove()\n",
        "\n",
        "num_tup = (1,2,3,4,5,6)\n",
        "# output should look like [1,2,3,4,5]\n",
        "num_tup = list(num_tup)\n",
        "num_tup.remove(num_tup[-1])\n",
        "print(num_tup)"
      ],
      "metadata": {
        "colab": {
          "base_uri": "https://localhost:8080/"
        },
        "id": "DJtyCGwOecv_",
        "outputId": "d776a3d0-692a-433c-bb41-40542bb938a9"
      },
      "execution_count": null,
      "outputs": [
        {
          "output_type": "stream",
          "name": "stdout",
          "text": [
            "[1, 2, 3, 4, 5]\n"
          ]
        }
      ]
    },
    {
      "cell_type": "code",
      "source": [
        "# Question 5\n",
        "# Given a list, find two sublists: list with even indexed elements and other with odd indexed elements\n",
        "# return a new list which is formed after concatenating the even indexed list with odd indexed list\n",
        "\n",
        "# Ex: given [1,2,3,4,5], the output should be: [1,3,5,2,4]\n",
        "num_list = list(range(1,6))\n",
        "even_list, odd_list = [],[]\n",
        "for i in range(len(num_list)):\n",
        "  if i % 2 == 0:\n",
        "    even_list.append(num_list[i])\n",
        "  else:\n",
        "    odd_list.append(num_list[i])\n",
        "\n",
        "num_list = even_list + odd_list\n",
        "\n",
        "print(num_list)\n",
        "\n"
      ],
      "metadata": {
        "colab": {
          "base_uri": "https://localhost:8080/"
        },
        "id": "qI4TAfdtfBFH",
        "outputId": "d4fe365c-55b5-4245-96a3-bf790f91d5c6"
      },
      "execution_count": 2,
      "outputs": [
        {
          "output_type": "stream",
          "name": "stdout",
          "text": [
            "[1, 3, 5, 2, 4]\n"
          ]
        }
      ]
    },
    {
      "cell_type": "code",
      "source": [
        "# Question 6\n",
        "# Using for-loop, print the remainder of all the elements in a given list when divided with 3\n",
        "\n",
        "num_list = list(range(10))\n",
        "\n",
        "for x in num_list:\n",
        "  print(x%3)"
      ],
      "metadata": {
        "colab": {
          "base_uri": "https://localhost:8080/"
        },
        "id": "KxUu7A-Mg8T4",
        "outputId": "a22f138e-3cdb-41b3-f57a-ec37074e426e"
      },
      "execution_count": 3,
      "outputs": [
        {
          "output_type": "stream",
          "name": "stdout",
          "text": [
            "0\n",
            "1\n",
            "2\n",
            "0\n",
            "1\n",
            "2\n",
            "0\n",
            "1\n",
            "2\n",
            "0\n"
          ]
        }
      ]
    },
    {
      "cell_type": "code",
      "source": [
        "# Question 7\n",
        "# You are designer for the new login system for you class project.\n",
        "# To save the usernames and passwords, you want to use a dictionary as the data structure\n",
        "# Username will be the key and the value will be the password. \n",
        "# For simplicity lets assume we store plaintext passwords\n",
        "# write program which asks a new user for username and password\n",
        "# call a function called register_user which prints \"Registration complete!\" and\n",
        "# returns True after successfully inserting the username and password key-value pair\n",
        "# If the selected username already exists, the function should print \"Username already exists. Try again!\" and return False\n",
        "# Based on the return value the main program should decide to exit or ask for new username\n",
        "\n",
        "def register_user(login_dict, uname, passwd):\n",
        "    if uname not in login_dict:\n",
        "        login_dict[uname] = passwd\n",
        "        print(\"Registration complete!\")\n",
        "        return True\n",
        "    else:\n",
        "        print(\"Username already exists. Try again!\")\n",
        "        return False\n",
        "\n",
        "login_dict = {'jdoe':'23!@56'}    \n",
        "\n",
        "count = 0\n",
        "# hint: use of break statement is required\n",
        "while True:\n",
        "    uname = input(\"Enter username : \")\n",
        "    passwd = input(\"Enter password : \")\n",
        "    \n",
        "    if register_user(login_dict,uname,passwd):\n",
        "        break\n",
        "    else:\n",
        "      count += 1\n",
        "      if count ==3:\n",
        "        break"
      ],
      "metadata": {
        "colab": {
          "base_uri": "https://localhost:8080/"
        },
        "id": "25TMQMiNg9qG",
        "outputId": "fa821e44-e8ef-4d9e-8104-212fa0531e43"
      },
      "execution_count": 4,
      "outputs": [
        {
          "output_type": "stream",
          "name": "stdout",
          "text": [
            "Enter username : jdoe\n",
            "Enter password : 23!@56\n",
            "Username already exists. Try again!\n",
            "Enter username : jdoe\n",
            "Enter password : 23!@56\n",
            "Username already exists. Try again!\n",
            "Enter username : himani\n",
            "Enter password : Test\n",
            "Registration complete!\n"
          ]
        }
      ]
    },
    {
      "cell_type": "code",
      "source": [
        "# Question 8\n",
        "# Create a generator function to return numbers from given number 'n' in decreasing order\n",
        "\n",
        "# if n=20, generate numbers from 20 to 0\n",
        "\n",
        "\n",
        "\n",
        "def reverse_num_generator(n):\n",
        "    \n",
        "    while n >= 0 :\n",
        "        yield n\n",
        "        n -= 1\n",
        "        \n",
        "\n",
        "# print numbers from 10 to 0 (n=10)\n",
        "rev = reverse_num_generator(10)\n",
        "\n",
        "for num in rev:\n",
        "    print(num)"
      ],
      "metadata": {
        "colab": {
          "base_uri": "https://localhost:8080/"
        },
        "id": "mjf2LKgPifaI",
        "outputId": "769b0e03-73d5-4237-c96b-d1a21c8a2f3c"
      },
      "execution_count": null,
      "outputs": [
        {
          "output_type": "stream",
          "name": "stdout",
          "text": [
            "10\n",
            "9\n",
            "8\n",
            "7\n",
            "6\n",
            "5\n",
            "4\n",
            "3\n",
            "2\n",
            "1\n",
            "0\n"
          ]
        }
      ]
    },
    {
      "cell_type": "code",
      "source": [
        ""
      ],
      "metadata": {
        "id": "EnTWWeH2kxpD"
      },
      "execution_count": null,
      "outputs": []
    }
  ]
}
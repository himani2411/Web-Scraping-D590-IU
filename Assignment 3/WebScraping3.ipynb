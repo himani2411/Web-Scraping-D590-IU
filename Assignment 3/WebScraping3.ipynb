{
 "cells": [
  {
   "cell_type": "markdown",
   "metadata": {
    "id": "DVwPksMyhH03"
   },
   "source": [
    "# Assignment 03\n",
    "Submitted by Himani Anil Deshpande"
   ]
  },
  {
   "cell_type": "code",
   "execution_count": null,
   "metadata": {
    "id": "XxPiIfAiAAEG"
   },
   "outputs": [],
   "source": [
    "class Authentication:\n",
    "    def __init__(self):\n",
    "        pass\n",
    "\n",
    "    def register_user(self):\n",
    "        pass\n",
    "\n",
    "    def authorize_user(self):\n",
    "        pass"
   ]
  },
  {
   "cell_type": "code",
   "execution_count": null,
   "metadata": {
    "id": "uaWTDsYCAizE"
   },
   "outputs": [],
   "source": [
    "# Question 1\n",
    "# In the given class definition, modify the constructor such that a new instance variable \"user_dict\" is intialized\n",
    "# with an empty dictionary\n",
    "\n",
    "# For now just fill the blanks here. Later, we shall join all the pieces together\n",
    "# do not execute this cell\n",
    "\n",
    "def __init__(self):\n",
    "    # instantiate an instance variable\n",
    "    self.user_dict = {}"
   ]
  },
  {
   "cell_type": "code",
   "execution_count": null,
   "metadata": {
    "id": "j2HqMa2wA4C8"
   },
   "outputs": [],
   "source": [
    "# Question 2\n",
    "# Now, modify the register_user() method such that it takes two arguments: uname and passwd\n",
    "# The function should check if the given username exists in user_dict\n",
    "# If username exists, print \"Username exists! Try a new one.\" and return False\n",
    "# Else, add the username and password to user_dict, print \"Registration successful\" and return True\n",
    "\n",
    "\n",
    "# For now just fill the blanks here. Later, we shall join all the pieces together\n",
    "# do not execute this cell\n",
    "\n",
    "def register_user(self, uname, passwd):\n",
    "    if uname in self.user_dict:\n",
    "        print(\"Username exists! Try a new one.\")\n",
    "        return False\n",
    "    else:\n",
    "        self.user_dict[uname] = passwd\n",
    "        print(\"Registration successful\")\n",
    "        return True"
   ]
  },
  {
   "cell_type": "code",
   "execution_count": null,
   "metadata": {
    "id": "TYNFfb1sBSn9"
   },
   "outputs": [],
   "source": [
    "# Question 3\n",
    "# Now, modify the authorize_user() method such that it takes two arguments: uname and passwd\n",
    "# The function should look to match a username (key) and its corresponding value in user_dict\n",
    "# if username and password match, print \"User authorized.\" and return True\n",
    "# else print \"Invalid credentials\" and return False\n",
    "\n",
    "# For now just fill the blanks here. Later, we shall join all the pieces together\n",
    "# do not execute this cell\n",
    "\n",
    "def authorize_user(self, uname, passwd):\n",
    "    if (uname, passwd) in self.user_dict:\n",
    "        print(\"User authorized.\")\n",
    "        return True\n",
    "    else:\n",
    "        print(\"Invalid credentials\")\n",
    "        return False"
   ]
  },
  {
   "cell_type": "code",
   "execution_count": null,
   "metadata": {
    "id": "71nH3cUcCLiX"
   },
   "outputs": [],
   "source": [
    "# Question 4\n",
    "# Now, lets add a new method: remove_user()\n",
    "# the method takes one argument: uname\n",
    "# The function should find a key corresponding to uname and remove it from the dictionary\n",
    "# if uname is present in the dictionary, delete the entry from the dictionary, print \"User removed.\", and return True\n",
    "# else print \"Invalid username\" and return False\n",
    "\n",
    "# For now just fill the blanks here. Later, we shall join all the pieces together\n",
    "# do not execute this cell\n",
    "\n",
    "def remove_user(self, uname):\n",
    "    if uname in self.user_dict:\n",
    "        del self.user_dict[uname] \n",
    "        print(\"User removed.\")\n",
    "        return True\n",
    "    else:\n",
    "        print(\"Invalid username\")\n",
    "        return False"
   ]
  },
  {
   "cell_type": "code",
   "execution_count": null,
   "metadata": {
    "id": "ehphVnr9CjBx"
   },
   "outputs": [],
   "source": [
    "# Question 5\n",
    "# Now, lets add a new method: get_user_list()\n",
    "# the method takes no arguments\n",
    "# The function should return a list of all the users in the dictionary\n",
    "\n",
    "# For now just fill the blanks here. Later, we shall join all the pieces together\n",
    "# do not execute this cell\n",
    "\n",
    "def get_user_list(self):\n",
    "    return list(self.user_dict.keys())"
   ]
  },
  {
   "cell_type": "code",
   "execution_count": null,
   "metadata": {
    "id": "Kv-2Bk9BCyae"
   },
   "outputs": [],
   "source": [
    "# Question 6\n",
    "# Now, combine all the methods into the class and EXECUTE the cell with all the implementations\n",
    "\n",
    "# Instructions: Create the class definition and add all the methods you just defined.\n",
    "# Next execute the cell"
   ]
  },
  {
   "cell_type": "code",
   "execution_count": 2,
   "metadata": {
    "id": "WdXszUK9DCA6"
   },
   "outputs": [],
   "source": [
    "class Authentication:\n",
    "    \n",
    "    def __init__(self):\n",
    "    # instantiate an instance variable\n",
    "      self.user_dict = {}\n",
    "\n",
    "    \n",
    "    def register_user(self, uname, passwd):\n",
    "        if uname in self.user_dict:\n",
    "            print(\"Username exists! Try a new one.\")\n",
    "            return False\n",
    "        else:\n",
    "            self.user_dict[uname] = passwd\n",
    "            print(\"Registration successful\")\n",
    "            return True\n",
    "\n",
    "        \n",
    "    def authorize_user(self, uname, passwd):\n",
    "        if (uname, passwd) in self.user_dict:\n",
    "            print(\"User authorized.\")\n",
    "            return True\n",
    "        else:\n",
    "            print(\"Invalid credentials\")\n",
    "            return False\n",
    "\n",
    "    def remove_user(self, uname):\n",
    "        if uname in self.user_dict:\n",
    "            del self.user_dict[uname] \n",
    "            print(\"User removed.\")\n",
    "            return True\n",
    "        else:\n",
    "            print(\"Invalid username\")\n",
    "            return False\n",
    "\n",
    "    def get_user_list(self):\n",
    "        return list(self.user_dict.keys())"
   ]
  },
  {
   "cell_type": "code",
   "execution_count": 3,
   "metadata": {
    "colab": {
     "base_uri": "https://localhost:8080/"
    },
    "id": "jYBcq1U3DcwF",
    "outputId": "4b7f07d5-3dd1-46cd-e88d-653649dd55a8"
   },
   "outputs": [
    {
     "name": "stdout",
     "output_type": "stream",
     "text": [
      "Registration successful\n",
      "Registration successful\n",
      "Registration successful\n",
      "['jdoe', 'sburry', 'mfisc']\n",
      "Username exists! Try a new one.\n",
      "Invalid credentials\n",
      "Invalid credentials\n",
      "User removed.\n",
      "Invalid username\n"
     ]
    }
   ],
   "source": [
    "# Execute the cell and compare the results with expected results\n",
    "\n",
    "def test(auth):\n",
    "\n",
    "    # registering 3 users\n",
    "    auth.register_user('jdoe', '$234^%$') # Jane Doe\n",
    "    auth.register_user('sburry', '456@#&^') # Sam Burry\n",
    "    auth.register_user('mfisc', '%6&#$@#') # Mike Fischer\n",
    "\n",
    "    # list all the users\n",
    "    print(auth.get_user_list()) # should pring jdoe, sburry, mfisc\n",
    "\n",
    "    # registering Jon Doe results in failure\n",
    "    auth.register_user('jdoe', '5sadf23@%g%&^') # Failed registration of Jon Doe\n",
    "\n",
    "    # Authorizing users\n",
    "    auth.authorize_user('mfisc', '%6&#$@#') # success message\n",
    "    auth.authorize_user('jdoe', 'jlasdfjlasdf') # failure message\n",
    "\n",
    "    # removing users\n",
    "    auth.remove_user('jdoe') # success message\n",
    "    auth.remove_user('jake') # failure message\n",
    "\n",
    "    \n",
    "\n",
    "#\n",
    "# Main Program\n",
    "#\n",
    "# instantiating Authentication object\n",
    "auth_obj = Authentication()\n",
    "# calling test function\n",
    "test(auth_obj)"
   ]
  },
  {
   "cell_type": "code",
   "execution_count": null,
   "metadata": {
    "id": "AqwasDCoDgCm"
   },
   "outputs": [],
   "source": [
    "# Question 7\n",
    "# In the remove_user() method, we used if..else block to implement the functionality\n",
    "# lets replace if..else with try..catch block\n",
    "# try deleting the key, print \"User removed.\", and return True if successful\n",
    "# if there is a KeyError, catch the error, print \"Invalid username\" and return False\n",
    "\n",
    "# For now just fill the blanks here. Later, we shall join all the pieces together\n",
    "# do not execute this cell\n",
    "\n",
    "def remove_user(self, uname):\n",
    "    try:\n",
    "        del self.user_dict[uname] \n",
    "        print(\"User removed.\")\n",
    "        return True\n",
    "    except BaseException:\n",
    "        print(\"Invalid username\")\n",
    "        return False"
   ]
  },
  {
   "cell_type": "code",
   "execution_count": 4,
   "metadata": {
    "colab": {
     "base_uri": "https://localhost:8080/"
    },
    "id": "0Ja2b8nxDw2B",
    "outputId": "8ae97331-72f1-426a-ff12-948e8cfd9899"
   },
   "outputs": [
    {
     "name": "stdout",
     "output_type": "stream",
     "text": [
      "Registration successful\n",
      "Registration successful\n",
      "Registration successful\n",
      "['jdoe', 'sburry', 'mfisc']\n",
      "Username exists! Try a new one.\n",
      "Invalid credentials\n",
      "Invalid credentials\n",
      "User removed.\n",
      "Invalid username\n"
     ]
    }
   ],
   "source": [
    "# Now, create a new definition of Authentication class named, 'Authentication2'\n",
    "# replace the remove_user functionality using inheritance\n",
    "# and run the test() using the new object\n",
    "\n",
    "# inherit Authentication class\n",
    "class Authentication2(Authentication):\n",
    "    # override remove_user()\n",
    "    def remove_user(self, uname):\n",
    "        try:\n",
    "            del self.user_dict[uname] \n",
    "            print(\"User removed.\")\n",
    "            return True\n",
    "        except BaseException:\n",
    "            print(\"Invalid username\")\n",
    "            return False\n",
    "        \n",
    "    # end\n",
    "    \n",
    "\n",
    "# main program\n",
    "\n",
    "auth2 = Authentication2()\n",
    "test(auth2)    \n",
    "    "
   ]
  },
  {
   "cell_type": "code",
   "execution_count": 1,
   "metadata": {
    "id": "OlhZBuBTlD98"
   },
   "outputs": [
    {
     "name": "stdout",
     "output_type": "stream",
     "text": [
      "The current working directory is: \n",
      " /Users/himanideshpande/Downloads \n",
      "\n",
      "[]\n",
      "/Users/himanideshpande/Downloads/files\n",
      "Hello world!\n"
     ]
    }
   ],
   "source": [
    "# Question 8\n",
    "# This will be a small exercise to brush up your memory of the I/O commands\n",
    "\n",
    "import os\n",
    "\n",
    "# 1. Print your current directory\n",
    "cwd = os.getcwd() # get current directory\n",
    "print(\"The current working directory is:\", '\\n', cwd, \"\\n\")\n",
    "\n",
    "# 2. Create an few folder called \"files\" in your current directory and list all the files in your current directory\n",
    "os.mkdir(\"files\") # create a new folder \"files\"\n",
    "print(os.listdir(\"files\")) # print the contents of directory\n",
    "\n",
    "# 3. change your path to the new directory and print the current directory\n",
    "os.chdir(os.path.join(cwd+\"/files\")) # change path to \"files\"\n",
    "print(os.getcwd()) # print current working directory\n",
    "\n",
    "# 4. open a file called 'sample.txt' in write ('w') mode\n",
    "f = open( 'sample.txt', 'w')\n",
    "\n",
    "# 5. Write \"Hello world!\" to the file\n",
    "f.write(\"Hello world!\")\n",
    "\n",
    "# 6. close the file and terminate the program\n",
    "f.close()\n",
    "\n",
    "# 7. open in read ('r') mode, print the contents of sample.txt and close the file\n",
    "f = open('sample.txt', 'r')\n",
    "print(f.read())\n",
    "f.close()"
   ]
  },
  {
   "cell_type": "code",
   "execution_count": 3,
   "metadata": {},
   "outputs": [
    {
     "name": "stdout",
     "output_type": "stream",
     "text": [
      "['sample.txt']\n"
     ]
    }
   ],
   "source": [
    "print(os.listdir(os.getcwd())) "
   ]
  },
  {
   "cell_type": "code",
   "execution_count": null,
   "metadata": {},
   "outputs": [],
   "source": []
  }
 ],
 "metadata": {
  "accelerator": "GPU",
  "colab": {
   "collapsed_sections": [],
   "name": "WebScraping_assgn3.ipynb",
   "provenance": []
  },
  "kernelspec": {
   "display_name": "Python 3 (ipykernel)",
   "language": "python",
   "name": "python3"
  },
  "language_info": {
   "codemirror_mode": {
    "name": "ipython",
    "version": 3
   },
   "file_extension": ".py",
   "mimetype": "text/x-python",
   "name": "python",
   "nbconvert_exporter": "python",
   "pygments_lexer": "ipython3",
   "version": "3.8.12"
  }
 },
 "nbformat": 4,
 "nbformat_minor": 1
}
